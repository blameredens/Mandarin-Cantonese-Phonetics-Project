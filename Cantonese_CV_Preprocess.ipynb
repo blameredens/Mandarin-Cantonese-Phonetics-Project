{
  "cells": [
    {
      "cell_type": "code",
      "execution_count": null,
      "id": "47a78f04",
      "metadata": {
        "id": "47a78f04",
        "outputId": "0b5383b1-3908-4930-d672-f2098ebd55b3"
      },
      "outputs": [
        {
          "name": "stdout",
          "output_type": "stream",
          "text": [
            "Collecting pandas\n",
            "  Using cached pandas-2.3.0-cp312-cp312-win_amd64.whl.metadata (19 kB)\n",
            "Requirement already satisfied: numpy>=1.26.0 in c:\\users\\23255\\anaconda3\\envs\\mfaproject\\lib\\site-packages (from pandas) (2.2.6)\n",
            "Requirement already satisfied: python-dateutil>=2.8.2 in c:\\users\\23255\\appdata\\roaming\\python\\python312\\site-packages (from pandas) (2.9.0.post0)\n",
            "Collecting pytz>=2020.1 (from pandas)\n",
            "  Using cached pytz-2025.2-py2.py3-none-any.whl.metadata (22 kB)\n",
            "Collecting tzdata>=2022.7 (from pandas)\n",
            "  Using cached tzdata-2025.2-py2.py3-none-any.whl.metadata (1.4 kB)\n",
            "Requirement already satisfied: six>=1.5 in c:\\users\\23255\\appdata\\roaming\\python\\python312\\site-packages (from python-dateutil>=2.8.2->pandas) (1.16.0)\n",
            "Using cached pandas-2.3.0-cp312-cp312-win_amd64.whl (11.0 MB)\n",
            "Using cached pytz-2025.2-py2.py3-none-any.whl (509 kB)\n",
            "Using cached tzdata-2025.2-py2.py3-none-any.whl (347 kB)\n",
            "Installing collected packages: pytz, tzdata, pandas\n",
            "\n",
            "   ---------------------------------------- 0/3 [pytz]\n",
            "   ---------------------------------------- 0/3 [pytz]\n",
            "   ------------- -------------------------- 1/3 [tzdata]\n",
            "   ------------- -------------------------- 1/3 [tzdata]\n",
            "   ------------- -------------------------- 1/3 [tzdata]\n",
            "   ------------- -------------------------- 1/3 [tzdata]\n",
            "   -------------------------- ------------- 2/3 [pandas]\n",
            "   -------------------------- ------------- 2/3 [pandas]\n",
            "   -------------------------- ------------- 2/3 [pandas]\n",
            "   -------------------------- ------------- 2/3 [pandas]\n",
            "   -------------------------- ------------- 2/3 [pandas]\n",
            "   -------------------------- ------------- 2/3 [pandas]\n",
            "   -------------------------- ------------- 2/3 [pandas]\n",
            "   -------------------------- ------------- 2/3 [pandas]\n",
            "   -------------------------- ------------- 2/3 [pandas]\n",
            "   -------------------------- ------------- 2/3 [pandas]\n",
            "   -------------------------- ------------- 2/3 [pandas]\n",
            "   -------------------------- ------------- 2/3 [pandas]\n",
            "   -------------------------- ------------- 2/3 [pandas]\n",
            "   -------------------------- ------------- 2/3 [pandas]\n",
            "   -------------------------- ------------- 2/3 [pandas]\n",
            "   -------------------------- ------------- 2/3 [pandas]\n",
            "   -------------------------- ------------- 2/3 [pandas]\n",
            "   -------------------------- ------------- 2/3 [pandas]\n",
            "   -------------------------- ------------- 2/3 [pandas]\n",
            "   -------------------------- ------------- 2/3 [pandas]\n",
            "   -------------------------- ------------- 2/3 [pandas]\n",
            "   -------------------------- ------------- 2/3 [pandas]\n",
            "   -------------------------- ------------- 2/3 [pandas]\n",
            "   -------------------------- ------------- 2/3 [pandas]\n",
            "   -------------------------- ------------- 2/3 [pandas]\n",
            "   -------------------------- ------------- 2/3 [pandas]\n",
            "   -------------------------- ------------- 2/3 [pandas]\n",
            "   -------------------------- ------------- 2/3 [pandas]\n",
            "   -------------------------- ------------- 2/3 [pandas]\n",
            "   -------------------------- ------------- 2/3 [pandas]\n",
            "   -------------------------- ------------- 2/3 [pandas]\n",
            "   -------------------------- ------------- 2/3 [pandas]\n",
            "   -------------------------- ------------- 2/3 [pandas]\n",
            "   -------------------------- ------------- 2/3 [pandas]\n",
            "   -------------------------- ------------- 2/3 [pandas]\n",
            "   -------------------------- ------------- 2/3 [pandas]\n",
            "   -------------------------- ------------- 2/3 [pandas]\n",
            "   -------------------------- ------------- 2/3 [pandas]\n",
            "   -------------------------- ------------- 2/3 [pandas]\n",
            "   -------------------------- ------------- 2/3 [pandas]\n",
            "   -------------------------- ------------- 2/3 [pandas]\n",
            "   -------------------------- ------------- 2/3 [pandas]\n",
            "   -------------------------- ------------- 2/3 [pandas]\n",
            "   -------------------------- ------------- 2/3 [pandas]\n",
            "   -------------------------- ------------- 2/3 [pandas]\n",
            "   -------------------------- ------------- 2/3 [pandas]\n",
            "   -------------------------- ------------- 2/3 [pandas]\n",
            "   -------------------------- ------------- 2/3 [pandas]\n",
            "   -------------------------- ------------- 2/3 [pandas]\n",
            "   -------------------------- ------------- 2/3 [pandas]\n",
            "   -------------------------- ------------- 2/3 [pandas]\n",
            "   -------------------------- ------------- 2/3 [pandas]\n",
            "   -------------------------- ------------- 2/3 [pandas]\n",
            "   -------------------------- ------------- 2/3 [pandas]\n",
            "   -------------------------- ------------- 2/3 [pandas]\n",
            "   -------------------------- ------------- 2/3 [pandas]\n",
            "   -------------------------- ------------- 2/3 [pandas]\n",
            "   -------------------------- ------------- 2/3 [pandas]\n",
            "   -------------------------- ------------- 2/3 [pandas]\n",
            "   ---------------------------------------- 3/3 [pandas]\n",
            "\n",
            "Successfully installed pandas-2.3.0 pytz-2025.2 tzdata-2025.2\n"
          ]
        }
      ],
      "source": [
        "!pip install pandas"
      ]
    },
    {
      "cell_type": "markdown",
      "source": [
        "Selected Wh words in Cantonese(including A唔A form)"
      ],
      "metadata": {
        "id": "k-EXBSw7je8L"
      },
      "id": "k-EXBSw7je8L"
    },
    {
      "cell_type": "code",
      "execution_count": null,
      "id": "e5d92ff2",
      "metadata": {
        "id": "e5d92ff2",
        "outputId": "e68b3fc9-f2bc-4d43-9675-d2681f579007"
      },
      "outputs": [
        {
          "name": "stdout",
          "output_type": "stream",
          "text": [
            "筛选完成，找到 21045 行，已保存为 filtered_file.tsv\n",
            "\n",
            "示例说明：\n",
            "1. 会匹配标准疑问词如：乜嘢、邊個等\n",
            "2. 会匹配'A唔A'结构如：係唔係、好唔好、得唔得等\n",
            "3. 检测结果会合并显示在'detected words'列中\n"
          ]
        }
      ],
      "source": [
        "import pandas as pd\n",
        "import re\n",
        "\n",
        "# 定义要筛选的词列表\n",
        "wh_words = ['乜嘢', '麼', '邊個', '邊度', '咩', '點解', '几', '麼', '吗']\n",
        "\n",
        "# 定义\"A唔A\"结构的正则表达式模式\n",
        "pattern = re.compile(r'(\\S{1,3})唔\\1')  # 匹配1-3个非空白字符+\"唔\"+重复前面的字符\n",
        "\n",
        "def detect_special_words(sentence):\n",
        "    \"\"\"\n",
        "    检测句子中的特殊疑问词和\"A唔A\"结构\n",
        "    \"\"\"\n",
        "    # 检测wh_words\n",
        "    detected_wh = [word for word in wh_words if word in sentence]\n",
        "\n",
        "    # 检测\"A唔A\"结构\n",
        "    a_ma_a = pattern.findall(sentence)\n",
        "    detected_structures = [f\"{match}唔{match}\" for match in a_ma_a]\n",
        "\n",
        "    # 合并结果\n",
        "    all_detected = detected_wh + detected_structures\n",
        "\n",
        "    return ', '.join(all_detected) if all_detected else None\n",
        "\n",
        "# 读取TSV文件\n",
        "df = pd.read_csv(r\"C:\\Users\\23255\\Desktop\\CLP2025\\cv-corpus-21.0-2025-03-14_CANTONESE\\yue\\total.tsv\", sep='\\t')\n",
        "\n",
        "# 筛选行\n",
        "filtered_rows = []\n",
        "for index, row in df.iterrows():\n",
        "    sentence = row['sentence']\n",
        "    detected = detect_special_words(sentence)\n",
        "\n",
        "    if detected:\n",
        "        new_row = row.copy()\n",
        "        new_row['detected words'] = detected\n",
        "        filtered_rows.append(new_row)\n",
        "\n",
        "# 创建新DataFrame并保存\n",
        "if filtered_rows:\n",
        "    new_df = pd.DataFrame(filtered_rows)\n",
        "\n",
        "    # 确保列顺序正确\n",
        "    cols = df.columns.tolist() + ['detected words']\n",
        "    new_df = new_df[cols]\n",
        "\n",
        "    new_df.to_csv(r\"C:\\Users\\23255\\Desktop\\CLP2025\\cv-corpus-21.0-2025-03-14_CANTONESE\\yue\\cantonese_wh_words.tsv\", sep='\\t', index=False)\n",
        "    print(f\"筛选完成，找到 {len(new_df)} 行，已保存为 filtered_file.tsv\")\n",
        "else:\n",
        "    print(\"没有找到包含指定词语或结构的行\")\n",
        "\n",
        "# 示例输出说明\n",
        "print(\"\\n示例说明：\")\n",
        "print(\"1. 会匹配标准疑问词如：乜嘢、邊個等\")\n",
        "print(\"2. 会匹配'A唔A'结构如：係唔係、好唔好、得唔得等\")\n",
        "print(\"3. 检测结果会合并显示在'detected words'列中\")"
      ]
    },
    {
      "cell_type": "code",
      "execution_count": null,
      "id": "99dd365a",
      "metadata": {
        "id": "99dd365a"
      },
      "outputs": [],
      "source": []
    }
  ],
  "metadata": {
    "kernelspec": {
      "display_name": "mfaproject",
      "language": "python",
      "name": "python3"
    },
    "language_info": {
      "codemirror_mode": {
        "name": "ipython",
        "version": 3
      },
      "file_extension": ".py",
      "mimetype": "text/x-python",
      "name": "python",
      "nbconvert_exporter": "python",
      "pygments_lexer": "ipython3",
      "version": "3.12.11"
    },
    "colab": {
      "provenance": []
    }
  },
  "nbformat": 4,
  "nbformat_minor": 5
}
